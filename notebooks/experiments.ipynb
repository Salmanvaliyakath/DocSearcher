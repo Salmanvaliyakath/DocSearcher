{
 "cells": [
  {
   "cell_type": "code",
   "execution_count": null,
   "id": "759900b1",
   "metadata": {},
   "outputs": [],
   "source": [
    "import boto3\n",
    "import os \n",
    "import fitz\n",
    "import pandas as pd\n",
    "import pytesseract\n",
    "from PIL import Image\n",
    "\n",
    "s3 = boto3.client('s3')\n",
    "\n",
    "BUCKET_NAME = \"docs-search-bucket\"\n",
    "DOWNLOAD_DIR = \"../data\""
   ]
  },
  {
   "cell_type": "code",
   "execution_count": null,
   "id": "8c9c4f05",
   "metadata": {},
   "outputs": [],
   "source": [
    "class S3Client:\n",
    "    def __init__(self, bucket_name, download_dir=\"../data\"):\n",
    "        self.s3 = boto3.client('s3')\n",
    "        self.bucket_name = bucket_name\n",
    "        self.download_dir = download_dir\n",
    "        os.makedirs(download_dir, exist_ok=True)\n",
    "\n",
    "    def list_supported_files(self):\n",
    "        response = self.s3.list_objects_v2(Bucket=self.bucket_name)\n",
    "        files = response.get('Contents', [])\n",
    "        return [f['Key'] for f in files if f['Key'].endswith(('.txt', '.pdf', '.csv', '.png'))]\n",
    "\n",
    "    def download_file(self, s3_key):\n",
    "        local_path = os.path.join(self.download_dir, os.path.basename(s3_key))\n",
    "        self.s3.download_file(self.bucket_name, s3_key, local_path)\n",
    "        return local_path\n",
    "\n",
    "    def generate_presigned_url(self, s3_key, expires_in=3600):\n",
    "        return self.s3.generate_presigned_url('get_object',\n",
    "                                              Params={'Bucket': self.bucket_name, 'Key': s3_key},\n",
    "                                              ExpiresIn=expires_in)"
   ]
  },
  {
   "cell_type": "code",
   "execution_count": 38,
   "id": "8fe8e783",
   "metadata": {},
   "outputs": [],
   "source": [
    "s3 = S3Client(bucket_name=BUCKET_NAME)"
   ]
  },
  {
   "cell_type": "code",
   "execution_count": 43,
   "id": "c4cb4078",
   "metadata": {},
   "outputs": [
    {
     "data": {
      "text/plain": [
       "['folder-1/sample document.pdf',\n",
       " 'folder-2/Sample image.png',\n",
       " 'folder-3/sample.csv']"
      ]
     },
     "execution_count": 43,
     "metadata": {},
     "output_type": "execute_result"
    }
   ],
   "source": [
    "files = s3.list_supported_files()\n",
    "files"
   ]
  },
  {
   "cell_type": "code",
   "execution_count": 44,
   "id": "d34703f9",
   "metadata": {},
   "outputs": [
    {
     "data": {
      "text/plain": [
       "['../data\\\\sample document.pdf',\n",
       " '../data\\\\Sample image.png',\n",
       " '../data\\\\sample.csv']"
      ]
     },
     "execution_count": 44,
     "metadata": {},
     "output_type": "execute_result"
    }
   ],
   "source": [
    "[s3.download_file(file) for file in files]"
   ]
  },
  {
   "cell_type": "code",
   "execution_count": null,
   "id": "dce0ff2e",
   "metadata": {},
   "outputs": [],
   "source": []
  },
  {
   "cell_type": "code",
   "execution_count": null,
   "id": "e5d84b7a",
   "metadata": {},
   "outputs": [],
   "source": [
    "class TXTExtractor():\n",
    "    def extract_text(self, file_path: str) -> str:\n",
    "        with open(file_path, 'r', encoding='utf-8') as f:\n",
    "            return f.read()\n",
    "        \n",
    "\n",
    "class PDFExtractor():\n",
    "    def extract_text(self, file_path: str) -> str:\n",
    "        doc = fitz.open(file_path)\n",
    "        text = \"\"\n",
    "        for page in doc:\n",
    "            text += page.get_text()\n",
    "        return text\n",
    "    \n",
    "class CSVExtractor():\n",
    "    def extract_text(self, file_path: str) -> str:\n",
    "        df = pd.read_csv(file_path)\n",
    "        return df.to_string()\n",
    "    \n",
    "class ImageExtractor():\n",
    "    def extract_text(self, file_path: str) -> str:\n",
    "        image = Image.open(file_path)\n",
    "        return pytesseract.image_to_string(image)"
   ]
  },
  {
   "cell_type": "code",
   "execution_count": 47,
   "id": "045ab993",
   "metadata": {},
   "outputs": [],
   "source": [
    "def get_extractor(file_path: str):\n",
    "    if file_path.endswith(\".txt\"):\n",
    "        return TXTExtractor()\n",
    "    elif file_path.endswith(\".pdf\"):\n",
    "        return PDFExtractor()\n",
    "    elif file_path.endswith(\".csv\"):\n",
    "        return CSVExtractor()\n",
    "    elif file_path.endswith(\".png\"):\n",
    "        return ImageExtractor()\n",
    "    return None"
   ]
  },
  {
   "cell_type": "code",
   "execution_count": 2,
   "id": "ffafc0fe",
   "metadata": {},
   "outputs": [],
   "source": [
    "from elasticsearch import Elasticsearch"
   ]
  },
  {
   "cell_type": "code",
   "execution_count": null,
   "id": "9de7a9fe",
   "metadata": {},
   "outputs": [],
   "source": []
  },
  {
   "cell_type": "code",
   "execution_count": null,
   "id": "a8d708f7",
   "metadata": {},
   "outputs": [],
   "source": [
    "\n"
   ]
  },
  {
   "cell_type": "code",
   "execution_count": null,
   "id": "8f92d3de",
   "metadata": {},
   "outputs": [],
   "source": [
    "\n",
    "\n",
    "\n"
   ]
  },
  {
   "cell_type": "code",
   "execution_count": null,
   "id": "147bd240",
   "metadata": {},
   "outputs": [],
   "source": []
  }
 ],
 "metadata": {
  "kernelspec": {
   "display_name": "docsearch",
   "language": "python",
   "name": "python3"
  },
  "language_info": {
   "codemirror_mode": {
    "name": "ipython",
    "version": 3
   },
   "file_extension": ".py",
   "mimetype": "text/x-python",
   "name": "python",
   "nbconvert_exporter": "python",
   "pygments_lexer": "ipython3",
   "version": "3.10.18"
  }
 },
 "nbformat": 4,
 "nbformat_minor": 5
}
