{
 "cells": [
  {
   "cell_type": "code",
   "execution_count": 1,
   "id": "759900b1",
   "metadata": {},
   "outputs": [],
   "source": [
    "import boto3\n",
    "import os \n",
    "import fitz\n",
    "import pandas as pd\n",
    "import pytesseract\n",
    "from PIL import Image\n",
    "\n",
    "BUCKET_NAME = \"docs-search-bucket\"\n",
    "DOWNLOAD_DIR = \"../data\""
   ]
  },
  {
   "cell_type": "code",
   "execution_count": null,
   "id": "8c9c4f05",
   "metadata": {},
   "outputs": [],
   "source": [
    "import boto3\n",
    "import os \n",
    "\n",
    "class S3Client:\n",
    "    def __init__(self, bucket_name, download_dir=\"../data\"):\n",
    "        self.s3 = boto3.client('s3')\n",
    "        self.bucket_name = bucket_name\n",
    "        self.download_dir = download_dir\n",
    "        os.makedirs(download_dir, exist_ok=True)\n",
    "\n",
    "    def list_supported_files(self):\n",
    "        response = self.s3.list_objects_v2(Bucket=self.bucket_name)\n",
    "        files = response.get('Contents', [])\n",
    "        return [f['Key'] for f in files if f['Key'].endswith(('.txt', '.pdf', '.csv', '.png'))]\n",
    "\n",
    "    def download_file(self, s3_key):\n",
    "        local_path = os.path.join(self.download_dir, os.path.basename(s3_key))\n",
    "        self.s3.download_file(self.bucket_name, s3_key, local_path)\n",
    "        return local_path"
   ]
  },
  {
   "cell_type": "code",
   "execution_count": 3,
   "id": "e5d84b7a",
   "metadata": {},
   "outputs": [],
   "source": [
    "class TXTExtractor():\n",
    "    def extract_text(self, file_path: str) -> str:\n",
    "        with open(file_path, 'r', encoding='utf-8') as f:\n",
    "            return f.read()\n",
    "        \n",
    "\n",
    "class PDFExtractor():\n",
    "    def extract_text(self, file_path: str) -> str:\n",
    "        doc = fitz.open(file_path)\n",
    "        text = \"\"\n",
    "        for page in doc:\n",
    "            text += page.get_text()\n",
    "        return text\n",
    "    \n",
    "class CSVExtractor():\n",
    "    def extract_text(self, file_path: str) -> str:\n",
    "        df = pd.read_csv(file_path)\n",
    "        return df.to_string().replace('\\n',' ')\n",
    "    \n",
    "class ImageExtractor():\n",
    "    def extract_text(self, file_path: str) -> str:\n",
    "        image = Image.open(file_path)\n",
    "        return pytesseract.image_to_string(image)\n",
    "    \n",
    "def get_extractor(file_path: str):\n",
    "    if file_path.endswith(\".txt\"):\n",
    "        return TXTExtractor()\n",
    "    elif file_path.endswith(\".pdf\"):\n",
    "        return PDFExtractor()\n",
    "    elif file_path.endswith(\".csv\"):\n",
    "        return CSVExtractor()\n",
    "    elif file_path.endswith(\".png\"):\n",
    "        return ImageExtractor()\n",
    "    return None"
   ]
  },
  {
   "cell_type": "code",
   "execution_count": null,
   "id": "045ab993",
   "metadata": {},
   "outputs": [],
   "source": []
  },
  {
   "cell_type": "code",
   "execution_count": null,
   "id": "ffafc0fe",
   "metadata": {},
   "outputs": [],
   "source": []
  },
  {
   "cell_type": "code",
   "execution_count": null,
   "id": "9de7a9fe",
   "metadata": {},
   "outputs": [],
   "source": []
  },
  {
   "cell_type": "code",
   "execution_count": 4,
   "id": "a8d708f7",
   "metadata": {},
   "outputs": [],
   "source": [
    "# conn = psycopg2.connect(\n",
    "#     host=\"localhost\",\n",
    "#     user=\"postgres\",\n",
    "#     password=\"admin\",\n",
    "#     database=\"docsearch\"  # default database\n",
    "# )\n",
    "\n",
    "# cur = conn.cursor()\n",
    "\n",
    "# # Query to get all table names from the current schema\n",
    "# cur.execute(\"\"\"\n",
    "#     SELECT table_name\n",
    "#     FROM information_schema.tables\n",
    "#     WHERE table_schema = 'public'\n",
    "#     AND table_type = 'BASE TABLE';\n",
    "# \"\"\")\n",
    "\n",
    "# tables = cur.fetchall()\n",
    "\n",
    "# print(\"Tables in the database:\")\n",
    "# for table in tables:\n",
    "#     print(table[0])\n",
    "\n",
    "# cur.close()\n",
    "# conn.close()\n"
   ]
  },
  {
   "cell_type": "code",
   "execution_count": 5,
   "id": "bd781e64",
   "metadata": {},
   "outputs": [],
   "source": [
    "# conn = psycopg2.connect(\n",
    "#     host=\"localhost\",\n",
    "#     user=\"postgres\",\n",
    "#     password=\"admin\",\n",
    "#     database=\"docsearch\"  # default database\n",
    "# )\n",
    "\n",
    "# conn.autocommit = True \n",
    "\n",
    "# cur = conn.cursor()\n",
    "# cur.execute(\"CREATE DATABASE docsearch;\")\n",
    "# print(\"✅ Database 'docsearch' created successfully.\")\n",
    "\n",
    "# cur.close()\n",
    "# conn.close()"
   ]
  },
  {
   "cell_type": "code",
   "execution_count": null,
   "id": "294716c0",
   "metadata": {},
   "outputs": [],
   "source": [
    "import psycopg2\n",
    "from psycopg2.extras import RealDictCursor\n",
    "\n",
    "conn = psycopg2.connect(\n",
    "    host=\"localhost\",\n",
    "    user=\"postgres\",\n",
    "    password=\"admin\",\n",
    "    database=\"docsearch\"\n",
    ")\n",
    "\n",
    "cur = conn.cursor(cursor_factory=RealDictCursor)\n",
    "cur.execute(\"SELECT file_name from documents;\")\n",
    "\n",
    "response = cur.fetchall()\n",
    "files = [file[0] for file in response]\n",
    "\n",
    "cur.close()\n",
    "conn.close()"
   ]
  },
  {
   "cell_type": "code",
   "execution_count": 19,
   "id": "d75723be",
   "metadata": {},
   "outputs": [
    {
     "data": {
      "text/plain": [
       "['folder-1/sample document.pdf',\n",
       " 'folder-2/Sample image.png',\n",
       " 'folder-3/sample.csv']"
      ]
     },
     "execution_count": 19,
     "metadata": {},
     "output_type": "execute_result"
    }
   ],
   "source": [
    "files"
   ]
  },
  {
   "cell_type": "code",
   "execution_count": 32,
   "id": "835a5b9a",
   "metadata": {},
   "outputs": [],
   "source": [
    "from psycopg2.extras import RealDictCursor\n",
    "\n",
    "def list_file_name():\n",
    "\n",
    "    conn = psycopg2.connect(\n",
    "    host=\"localhost\",\n",
    "    user=\"postgres\",\n",
    "    password=\"admin\",\n",
    "    database=\"docsearch\")\n",
    "    with conn.cursor() as cur:\n",
    "        cur.execute(\"SELECT file_name from documents;\")\n",
    "        response = cur.fetchall()\n",
    "        return [file[0] for file in response]"
   ]
  },
  {
   "cell_type": "code",
   "execution_count": 33,
   "id": "478ac384",
   "metadata": {},
   "outputs": [
    {
     "data": {
      "text/plain": [
       "['folder-1/sample document.pdf',\n",
       " 'folder-2/Sample image.png',\n",
       " 'folder-3/sample.csv']"
      ]
     },
     "execution_count": 33,
     "metadata": {},
     "output_type": "execute_result"
    }
   ],
   "source": [
    "list_file_name()"
   ]
  },
  {
   "cell_type": "code",
   "execution_count": 1,
   "id": "fe214e1f",
   "metadata": {},
   "outputs": [],
   "source": [
    "content = \"salman is working\""
   ]
  },
  {
   "cell_type": "code",
   "execution_count": 2,
   "id": "e30daa36",
   "metadata": {},
   "outputs": [
    {
     "data": {
      "text/plain": [
       "17"
      ]
     },
     "execution_count": 2,
     "metadata": {},
     "output_type": "execute_result"
    }
   ],
   "source": [
    "len(content.encode('utf-8'))"
   ]
  },
  {
   "cell_type": "code",
   "execution_count": 9,
   "id": "915ebf49",
   "metadata": {},
   "outputs": [
    {
     "data": {
      "text/plain": [
       "10485760"
      ]
     },
     "execution_count": 9,
     "metadata": {},
     "output_type": "execute_result"
    }
   ],
   "source": [
    "10*1024*1024"
   ]
  },
  {
   "cell_type": "code",
   "execution_count": null,
   "id": "07f57ab8",
   "metadata": {},
   "outputs": [],
   "source": [
    "10485760"
   ]
  },
  {
   "cell_type": "code",
   "execution_count": null,
   "id": "6139fa89",
   "metadata": {},
   "outputs": [],
   "source": []
  },
  {
   "cell_type": "code",
   "execution_count": 6,
   "id": "8f92d3de",
   "metadata": {},
   "outputs": [],
   "source": [
    "import psycopg2\n",
    "from psycopg2.extras import RealDictCursor\n",
    "\n",
    "class PostgresClient:\n",
    "    def __init__(self, db_name='docsearch', user='postgres', password='admin', host='localhost', port='5432'):\n",
    "        self.conn = psycopg2.connect(dbname=db_name, user=user, password=password, host=host, port=port)\n",
    "        self._create_table()\n",
    "\n",
    "    def _create_table(self):\n",
    "        with self.conn.cursor() as cur:\n",
    "            cur.execute('''\n",
    "                CREATE TABLE IF NOT EXISTS documents (\n",
    "                    id SERIAL PRIMARY KEY,\n",
    "                    file_name TEXT,\n",
    "                    content TEXT\n",
    "                )\n",
    "            ''')\n",
    "            self.conn.commit()\n",
    "\n",
    "    def index_file(self, file_name, content):\n",
    "        with self.conn.cursor() as cur:\n",
    "            cur.execute('INSERT INTO documents (file_name, content) VALUES (%s, %s)',\n",
    "                        (file_name, content))\n",
    "            self.conn.commit()\n",
    "\n",
    "    def search(self, query):\n",
    "        with self.conn.cursor(cursor_factory=RealDictCursor) as cur:\n",
    "            cur.execute(\"SELECT file_name FROM documents WHERE content ILIKE %s\", ('%' + query + '%',))\n",
    "            return cur.fetchall()"
   ]
  },
  {
   "cell_type": "code",
   "execution_count": null,
   "id": "147bd240",
   "metadata": {},
   "outputs": [],
   "source": [
    "BUCKET_NAME = \"docs-search-bucket\"\n",
    "DOWNLOAD_DIR = \"../data\"\n",
    "\n",
    "s3 = S3Client(bucket_name=BUCKET_NAME)\n",
    "db = PostgresClient()"
   ]
  },
  {
   "cell_type": "code",
   "execution_count": null,
   "id": "19731399",
   "metadata": {},
   "outputs": [
    {
     "data": {
      "text/plain": [
       "[RealDictRow([('file_name', 'folder-3/sample.csv')]),\n",
       " RealDictRow([('file_name', 'folder-3/sample.csv')])]"
      ]
     },
     "execution_count": 12,
     "metadata": {},
     "output_type": "execute_result"
    }
   ],
   "source": [
    "db.search('John')\n"
   ]
  },
  {
   "cell_type": "code",
   "execution_count": 9,
   "id": "580a4d56",
   "metadata": {},
   "outputs": [],
   "source": [
    "pytesseract.pytesseract.tesseract_cmd = r\"C:\\Program Files\\Tesseract-OCR\\tesseract.exe\""
   ]
  },
  {
   "cell_type": "code",
   "execution_count": null,
   "id": "4bee9091",
   "metadata": {},
   "outputs": [],
   "source": []
  },
  {
   "cell_type": "code",
   "execution_count": null,
   "id": "40b23e83",
   "metadata": {},
   "outputs": [],
   "source": [
    "def run_indexing():\n",
    "    \n",
    "    files = s3.list_supported_files()\n",
    "\n",
    "    for key in files:\n",
    "        local_path = s3.download_file(key)\n",
    "        extractor = get_extractor(local_path)\n",
    "        if extractor:\n",
    "            content = extractor.extract_text(local_path)\n",
    "            db.index_file(key, content)\n",
    "\n",
    "\n"
   ]
  },
  {
   "cell_type": "code",
   "execution_count": null,
   "id": "21716aad",
   "metadata": {},
   "outputs": [],
   "source": []
  },
  {
   "cell_type": "code",
   "execution_count": null,
   "id": "86973603",
   "metadata": {},
   "outputs": [],
   "source": []
  }
 ],
 "metadata": {
  "kernelspec": {
   "display_name": "docsearch",
   "language": "python",
   "name": "python3"
  },
  "language_info": {
   "codemirror_mode": {
    "name": "ipython",
    "version": 3
   },
   "file_extension": ".py",
   "mimetype": "text/x-python",
   "name": "python",
   "nbconvert_exporter": "python",
   "pygments_lexer": "ipython3",
   "version": "3.10.18"
  }
 },
 "nbformat": 4,
 "nbformat_minor": 5
}
